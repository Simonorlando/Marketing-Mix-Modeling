{
 "cells": [
  {
   "cell_type": "markdown",
   "id": "3dff182c-63dc-4b33-8a5d-e1cf702810bc",
   "metadata": {},
   "source": [
    "# Refresh Q4 2024 Yeppon"
   ]
  },
  {
   "cell_type": "code",
   "execution_count": 22,
   "id": "8330ed94-1a1a-42b4-896f-aaa6add8975d",
   "metadata": {},
   "outputs": [],
   "source": [
    "library(googlesheets4)\n",
    "library(Robyn)\n",
    "library(lubridate) "
   ]
  },
  {
   "cell_type": "code",
   "execution_count": 3,
   "id": "b9689e09-ee2a-41c5-9926-f3fb8e0e8b11",
   "metadata": {},
   "outputs": [],
   "source": [
    "sheet_url <-'https://docs.google.com/spreadsheets/d/11QRHncf7k4TnlJqcz9T8sd6kn_t4hnwR6lBmWmFmn_Y/edit?gid=1946382181#gid=1946382181'"
   ]
  },
  {
   "cell_type": "code",
   "execution_count": 4,
   "id": "0257b1c3-958e-42ec-badb-e2fcd13da41d",
   "metadata": {},
   "outputs": [
    {
     "name": "stderr",
     "output_type": "stream",
     "text": [
      "\u001b[33m!\u001b[39m Using an auto-discovered, cached token.\n",
      "\n",
      "  To suppress this message, modify your code or options to clearly consent to\n",
      "  the use of a cached token.\n",
      "\n",
      "  See gargle's \"Non-interactive auth\" vignette for more details:\n",
      "\n",
      "  \u001b[3m\u001b[34m<https://gargle.r-lib.org/articles/non-interactive-auth.html>\u001b[39m\u001b[23m\n",
      "\n",
      "\u001b[36mℹ\u001b[39m The \u001b[34mgooglesheets4\u001b[39m package is using a cached token for\n",
      "  \u001b[34ms.orlando@digitalangels.com\u001b[39m.\n",
      "\n",
      "Auto-refreshing stale OAuth token.\n",
      "\n",
      "\u001b[32m✔\u001b[39m Reading from \u001b[36mDATI YEPPON MMM\u001b[39m.\n",
      "\n",
      "\u001b[32m✔\u001b[39m Range \u001b[33mSheet1\u001b[39m.\n",
      "\n"
     ]
    }
   ],
   "source": [
    "df <- read_sheet(sheet_url)"
   ]
  },
  {
   "cell_type": "code",
   "execution_count": 6,
   "id": "bf46a790-1bf9-4eae-8c58-93d7d856b0ac",
   "metadata": {},
   "outputs": [
    {
     "data": {
      "text/html": [
       "<table class=\"dataframe\">\n",
       "<caption>A tibble: 6 × 64</caption>\n",
       "<thead>\n",
       "\t<tr><th scope=col>DATE</th><th scope=col>Week</th><th scope=col>facebook_cost</th><th scope=col>facebook_impression</th><th scope=col>facebook_click</th><th scope=col>fb_cost</th><th scope=col>fb_impression</th><th scope=col>fb_click</th><th scope=col>search_cost</th><th scope=col>search_impression</th><th scope=col>⋯</th><th scope=col>idealo_click</th><th scope=col>idealo_cost</th><th scope=col>newsletter</th><th scope=col>compleanno_yeppon</th><th scope=col>compleanno_yeppon_weighted</th><th scope=col>black_friday</th><th scope=col>black_friday_weighted</th><th scope=col>error_404</th><th scope=col>marzo</th><th scope=col>marzo_weighted</th></tr>\n",
       "\t<tr><th scope=col>&lt;chr&gt;</th><th scope=col>&lt;dbl&gt;</th><th scope=col>&lt;dbl&gt;</th><th scope=col>&lt;dbl&gt;</th><th scope=col>&lt;dbl&gt;</th><th scope=col>&lt;dbl&gt;</th><th scope=col>&lt;dbl&gt;</th><th scope=col>&lt;dbl&gt;</th><th scope=col>&lt;dbl&gt;</th><th scope=col>&lt;dbl&gt;</th><th scope=col>⋯</th><th scope=col>&lt;dbl&gt;</th><th scope=col>&lt;dbl&gt;</th><th scope=col>&lt;dbl&gt;</th><th scope=col>&lt;dbl&gt;</th><th scope=col>&lt;dbl&gt;</th><th scope=col>&lt;dbl&gt;</th><th scope=col>&lt;dbl&gt;</th><th scope=col>&lt;dbl&gt;</th><th scope=col>&lt;dbl&gt;</th><th scope=col>&lt;dbl&gt;</th></tr>\n",
       "</thead>\n",
       "<tbody>\n",
       "\t<tr><td>11/11/24</td><td>46</td><td>NA</td><td>NA</td><td>NA</td><td>NA</td><td>NA</td><td>NA</td><td>NA</td><td>NA</td><td>⋯</td><td>NA</td><td>NA</td><td>NA</td><td>NA</td><td>NA</td><td>NA</td><td>NA</td><td>NA</td><td>NA</td><td>NA</td></tr>\n",
       "\t<tr><td>18/11/24</td><td>47</td><td>NA</td><td>NA</td><td>NA</td><td>NA</td><td>NA</td><td>NA</td><td>NA</td><td>NA</td><td>⋯</td><td>NA</td><td>NA</td><td>NA</td><td>NA</td><td>NA</td><td>NA</td><td>NA</td><td>NA</td><td>NA</td><td>NA</td></tr>\n",
       "\t<tr><td>25/11/24</td><td>48</td><td>NA</td><td>NA</td><td>NA</td><td>NA</td><td>NA</td><td>NA</td><td>NA</td><td>NA</td><td>⋯</td><td>NA</td><td>NA</td><td>NA</td><td>NA</td><td>NA</td><td>NA</td><td>NA</td><td>NA</td><td>NA</td><td>NA</td></tr>\n",
       "\t<tr><td>02/12/24</td><td>49</td><td>NA</td><td>NA</td><td>NA</td><td>NA</td><td>NA</td><td>NA</td><td>NA</td><td>NA</td><td>⋯</td><td>NA</td><td>NA</td><td>NA</td><td>NA</td><td>NA</td><td>NA</td><td>NA</td><td>NA</td><td>NA</td><td>NA</td></tr>\n",
       "\t<tr><td>09/12/24</td><td>50</td><td>NA</td><td>NA</td><td>NA</td><td>NA</td><td>NA</td><td>NA</td><td>NA</td><td>NA</td><td>⋯</td><td>NA</td><td>NA</td><td>NA</td><td>NA</td><td>NA</td><td>NA</td><td>NA</td><td>NA</td><td>NA</td><td>NA</td></tr>\n",
       "\t<tr><td>16/12/24</td><td>51</td><td>NA</td><td>NA</td><td>NA</td><td>NA</td><td>NA</td><td>NA</td><td>NA</td><td>NA</td><td>⋯</td><td>NA</td><td>NA</td><td>NA</td><td>NA</td><td>NA</td><td>NA</td><td>NA</td><td>NA</td><td>NA</td><td>NA</td></tr>\n",
       "</tbody>\n",
       "</table>\n"
      ],
      "text/latex": [
       "A tibble: 6 × 64\n",
       "\\begin{tabular}{lllllllllllllllllllll}\n",
       " DATE & Week & facebook\\_cost & facebook\\_impression & facebook\\_click & fb\\_cost & fb\\_impression & fb\\_click & search\\_cost & search\\_impression & ⋯ & idealo\\_click & idealo\\_cost & newsletter & compleanno\\_yeppon & compleanno\\_yeppon\\_weighted & black\\_friday & black\\_friday\\_weighted & error\\_404 & marzo & marzo\\_weighted\\\\\n",
       " <chr> & <dbl> & <dbl> & <dbl> & <dbl> & <dbl> & <dbl> & <dbl> & <dbl> & <dbl> & ⋯ & <dbl> & <dbl> & <dbl> & <dbl> & <dbl> & <dbl> & <dbl> & <dbl> & <dbl> & <dbl>\\\\\n",
       "\\hline\n",
       "\t 11/11/24 & 46 & NA & NA & NA & NA & NA & NA & NA & NA & ⋯ & NA & NA & NA & NA & NA & NA & NA & NA & NA & NA\\\\\n",
       "\t 18/11/24 & 47 & NA & NA & NA & NA & NA & NA & NA & NA & ⋯ & NA & NA & NA & NA & NA & NA & NA & NA & NA & NA\\\\\n",
       "\t 25/11/24 & 48 & NA & NA & NA & NA & NA & NA & NA & NA & ⋯ & NA & NA & NA & NA & NA & NA & NA & NA & NA & NA\\\\\n",
       "\t 02/12/24 & 49 & NA & NA & NA & NA & NA & NA & NA & NA & ⋯ & NA & NA & NA & NA & NA & NA & NA & NA & NA & NA\\\\\n",
       "\t 09/12/24 & 50 & NA & NA & NA & NA & NA & NA & NA & NA & ⋯ & NA & NA & NA & NA & NA & NA & NA & NA & NA & NA\\\\\n",
       "\t 16/12/24 & 51 & NA & NA & NA & NA & NA & NA & NA & NA & ⋯ & NA & NA & NA & NA & NA & NA & NA & NA & NA & NA\\\\\n",
       "\\end{tabular}\n"
      ],
      "text/markdown": [
       "\n",
       "A tibble: 6 × 64\n",
       "\n",
       "| DATE &lt;chr&gt; | Week &lt;dbl&gt; | facebook_cost &lt;dbl&gt; | facebook_impression &lt;dbl&gt; | facebook_click &lt;dbl&gt; | fb_cost &lt;dbl&gt; | fb_impression &lt;dbl&gt; | fb_click &lt;dbl&gt; | search_cost &lt;dbl&gt; | search_impression &lt;dbl&gt; | ⋯ ⋯ | idealo_click &lt;dbl&gt; | idealo_cost &lt;dbl&gt; | newsletter &lt;dbl&gt; | compleanno_yeppon &lt;dbl&gt; | compleanno_yeppon_weighted &lt;dbl&gt; | black_friday &lt;dbl&gt; | black_friday_weighted &lt;dbl&gt; | error_404 &lt;dbl&gt; | marzo &lt;dbl&gt; | marzo_weighted &lt;dbl&gt; |\n",
       "|---|---|---|---|---|---|---|---|---|---|---|---|---|---|---|---|---|---|---|---|---|\n",
       "| 11/11/24 | 46 | NA | NA | NA | NA | NA | NA | NA | NA | ⋯ | NA | NA | NA | NA | NA | NA | NA | NA | NA | NA |\n",
       "| 18/11/24 | 47 | NA | NA | NA | NA | NA | NA | NA | NA | ⋯ | NA | NA | NA | NA | NA | NA | NA | NA | NA | NA |\n",
       "| 25/11/24 | 48 | NA | NA | NA | NA | NA | NA | NA | NA | ⋯ | NA | NA | NA | NA | NA | NA | NA | NA | NA | NA |\n",
       "| 02/12/24 | 49 | NA | NA | NA | NA | NA | NA | NA | NA | ⋯ | NA | NA | NA | NA | NA | NA | NA | NA | NA | NA |\n",
       "| 09/12/24 | 50 | NA | NA | NA | NA | NA | NA | NA | NA | ⋯ | NA | NA | NA | NA | NA | NA | NA | NA | NA | NA |\n",
       "| 16/12/24 | 51 | NA | NA | NA | NA | NA | NA | NA | NA | ⋯ | NA | NA | NA | NA | NA | NA | NA | NA | NA | NA |\n",
       "\n"
      ],
      "text/plain": [
       "  DATE     Week facebook_cost facebook_impression facebook_click fb_cost\n",
       "1 11/11/24 46   NA            NA                  NA             NA     \n",
       "2 18/11/24 47   NA            NA                  NA             NA     \n",
       "3 25/11/24 48   NA            NA                  NA             NA     \n",
       "4 02/12/24 49   NA            NA                  NA             NA     \n",
       "5 09/12/24 50   NA            NA                  NA             NA     \n",
       "6 16/12/24 51   NA            NA                  NA             NA     \n",
       "  fb_impression fb_click search_cost search_impression ⋯ idealo_click\n",
       "1 NA            NA       NA          NA                ⋯ NA          \n",
       "2 NA            NA       NA          NA                ⋯ NA          \n",
       "3 NA            NA       NA          NA                ⋯ NA          \n",
       "4 NA            NA       NA          NA                ⋯ NA          \n",
       "5 NA            NA       NA          NA                ⋯ NA          \n",
       "6 NA            NA       NA          NA                ⋯ NA          \n",
       "  idealo_cost newsletter compleanno_yeppon compleanno_yeppon_weighted\n",
       "1 NA          NA         NA                NA                        \n",
       "2 NA          NA         NA                NA                        \n",
       "3 NA          NA         NA                NA                        \n",
       "4 NA          NA         NA                NA                        \n",
       "5 NA          NA         NA                NA                        \n",
       "6 NA          NA         NA                NA                        \n",
       "  black_friday black_friday_weighted error_404 marzo marzo_weighted\n",
       "1 NA           NA                    NA        NA    NA            \n",
       "2 NA           NA                    NA        NA    NA            \n",
       "3 NA           NA                    NA        NA    NA            \n",
       "4 NA           NA                    NA        NA    NA            \n",
       "5 NA           NA                    NA        NA    NA            \n",
       "6 NA           NA                    NA        NA    NA            "
      ]
     },
     "metadata": {},
     "output_type": "display_data"
    }
   ],
   "source": [
    "tail(df)"
   ]
  },
  {
   "cell_type": "code",
   "execution_count": 7,
   "id": "6b068482-0305-451c-b995-fbf7bd669c7c",
   "metadata": {},
   "outputs": [
    {
     "name": "stdout",
     "output_type": "stream",
     "text": [
      "[1] \"Numero di righe con almeno un NA: 29\"\n"
     ]
    }
   ],
   "source": [
    "num_rows_with_na <- sum(apply(df, 1, function(row) any(is.na(row)))) \n",
    "print(paste(\"Numero di righe con almeno un NA:\", num_rows_with_na))"
   ]
  },
  {
   "cell_type": "code",
   "execution_count": 8,
   "id": "9e73c3c2-deb9-40da-8910-6845f51d7859",
   "metadata": {},
   "outputs": [
    {
     "name": "stdout",
     "output_type": "stream",
     "text": [
      "[1] \"Numero di righe con più di un NA: 29\"\n"
     ]
    }
   ],
   "source": [
    "num_rows_with_multiple_nas <- sum(apply(df, 1, function(row) sum(is.na(row)) > 1))\n",
    "print(paste(\"Numero di righe con più di un NA:\", num_rows_with_multiple_nas))"
   ]
  },
  {
   "cell_type": "code",
   "execution_count": 9,
   "id": "694930c4-a8a0-4938-af9a-ba4062854d23",
   "metadata": {},
   "outputs": [],
   "source": [
    "df <- df[1:236, ]"
   ]
  },
  {
   "cell_type": "code",
   "execution_count": 11,
   "id": "272628f0-efc0-4771-9eb0-e1954dc59aa1",
   "metadata": {},
   "outputs": [
    {
     "data": {
      "text/html": [
       "<table class=\"dataframe\">\n",
       "<caption>A tibble: 6 × 64</caption>\n",
       "<thead>\n",
       "\t<tr><th scope=col>DATE</th><th scope=col>Week</th><th scope=col>facebook_cost</th><th scope=col>facebook_impression</th><th scope=col>facebook_click</th><th scope=col>fb_cost</th><th scope=col>fb_impression</th><th scope=col>fb_click</th><th scope=col>search_cost</th><th scope=col>search_impression</th><th scope=col>⋯</th><th scope=col>idealo_click</th><th scope=col>idealo_cost</th><th scope=col>newsletter</th><th scope=col>compleanno_yeppon</th><th scope=col>compleanno_yeppon_weighted</th><th scope=col>black_friday</th><th scope=col>black_friday_weighted</th><th scope=col>error_404</th><th scope=col>marzo</th><th scope=col>marzo_weighted</th></tr>\n",
       "\t<tr><th scope=col>&lt;chr&gt;</th><th scope=col>&lt;dbl&gt;</th><th scope=col>&lt;dbl&gt;</th><th scope=col>&lt;dbl&gt;</th><th scope=col>&lt;dbl&gt;</th><th scope=col>&lt;dbl&gt;</th><th scope=col>&lt;dbl&gt;</th><th scope=col>&lt;dbl&gt;</th><th scope=col>&lt;dbl&gt;</th><th scope=col>&lt;dbl&gt;</th><th scope=col>⋯</th><th scope=col>&lt;dbl&gt;</th><th scope=col>&lt;dbl&gt;</th><th scope=col>&lt;dbl&gt;</th><th scope=col>&lt;dbl&gt;</th><th scope=col>&lt;dbl&gt;</th><th scope=col>&lt;dbl&gt;</th><th scope=col>&lt;dbl&gt;</th><th scope=col>&lt;dbl&gt;</th><th scope=col>&lt;dbl&gt;</th><th scope=col>&lt;dbl&gt;</th></tr>\n",
       "</thead>\n",
       "<tbody>\n",
       "\t<tr><td>15/07/24</td><td>29</td><td>1348.94</td><td>371134</td><td>8090</td><td>1559.09</td><td>473853</td><td>9261</td><td>763.13</td><td>4963</td><td>⋯</td><td>1348</td><td>320.96</td><td>NA</td><td>NA</td><td>NA</td><td>NA</td><td>NA</td><td>NA</td><td>NA</td><td>NA</td></tr>\n",
       "\t<tr><td>22/07/24</td><td>30</td><td>1233.79</td><td>418326</td><td>7936</td><td>1432.54</td><td>519415</td><td>9141</td><td>712.15</td><td>4260</td><td>⋯</td><td>1920</td><td>455.04</td><td>NA</td><td>NA</td><td>NA</td><td>NA</td><td>NA</td><td>NA</td><td>NA</td><td>NA</td></tr>\n",
       "\t<tr><td>29/07/24</td><td>31</td><td>1132.78</td><td>444746</td><td>7441</td><td>1288.90</td><td>542632</td><td>8570</td><td>647.81</td><td>4321</td><td>⋯</td><td>2139</td><td>508.13</td><td>NA</td><td>NA</td><td>NA</td><td>NA</td><td>NA</td><td>NA</td><td>NA</td><td>NA</td></tr>\n",
       "\t<tr><td>05/08/24</td><td>32</td><td> 894.16</td><td>333448</td><td>6714</td><td>1033.95</td><td>422838</td><td>7636</td><td>586.32</td><td>3243</td><td>⋯</td><td>1944</td><td>460.72</td><td>NA</td><td>NA</td><td>NA</td><td>NA</td><td>NA</td><td>NA</td><td>NA</td><td>NA</td></tr>\n",
       "\t<tr><td>12/08/24</td><td>33</td><td> 768.43</td><td>258399</td><td>7982</td><td> 884.12</td><td>341120</td><td>8955</td><td>411.83</td><td>2950</td><td>⋯</td><td>1641</td><td>389.92</td><td>NA</td><td>NA</td><td>NA</td><td>NA</td><td>NA</td><td>NA</td><td>NA</td><td>NA</td></tr>\n",
       "\t<tr><td>19/08/24</td><td>34</td><td> 766.68</td><td>256492</td><td>7882</td><td> 938.86</td><td>363932</td><td>9238</td><td>485.31</td><td>3600</td><td>⋯</td><td>2128</td><td>506.18</td><td>NA</td><td>NA</td><td>NA</td><td>NA</td><td>NA</td><td>NA</td><td>NA</td><td>NA</td></tr>\n",
       "</tbody>\n",
       "</table>\n"
      ],
      "text/latex": [
       "A tibble: 6 × 64\n",
       "\\begin{tabular}{lllllllllllllllllllll}\n",
       " DATE & Week & facebook\\_cost & facebook\\_impression & facebook\\_click & fb\\_cost & fb\\_impression & fb\\_click & search\\_cost & search\\_impression & ⋯ & idealo\\_click & idealo\\_cost & newsletter & compleanno\\_yeppon & compleanno\\_yeppon\\_weighted & black\\_friday & black\\_friday\\_weighted & error\\_404 & marzo & marzo\\_weighted\\\\\n",
       " <chr> & <dbl> & <dbl> & <dbl> & <dbl> & <dbl> & <dbl> & <dbl> & <dbl> & <dbl> & ⋯ & <dbl> & <dbl> & <dbl> & <dbl> & <dbl> & <dbl> & <dbl> & <dbl> & <dbl> & <dbl>\\\\\n",
       "\\hline\n",
       "\t 15/07/24 & 29 & 1348.94 & 371134 & 8090 & 1559.09 & 473853 & 9261 & 763.13 & 4963 & ⋯ & 1348 & 320.96 & NA & NA & NA & NA & NA & NA & NA & NA\\\\\n",
       "\t 22/07/24 & 30 & 1233.79 & 418326 & 7936 & 1432.54 & 519415 & 9141 & 712.15 & 4260 & ⋯ & 1920 & 455.04 & NA & NA & NA & NA & NA & NA & NA & NA\\\\\n",
       "\t 29/07/24 & 31 & 1132.78 & 444746 & 7441 & 1288.90 & 542632 & 8570 & 647.81 & 4321 & ⋯ & 2139 & 508.13 & NA & NA & NA & NA & NA & NA & NA & NA\\\\\n",
       "\t 05/08/24 & 32 &  894.16 & 333448 & 6714 & 1033.95 & 422838 & 7636 & 586.32 & 3243 & ⋯ & 1944 & 460.72 & NA & NA & NA & NA & NA & NA & NA & NA\\\\\n",
       "\t 12/08/24 & 33 &  768.43 & 258399 & 7982 &  884.12 & 341120 & 8955 & 411.83 & 2950 & ⋯ & 1641 & 389.92 & NA & NA & NA & NA & NA & NA & NA & NA\\\\\n",
       "\t 19/08/24 & 34 &  766.68 & 256492 & 7882 &  938.86 & 363932 & 9238 & 485.31 & 3600 & ⋯ & 2128 & 506.18 & NA & NA & NA & NA & NA & NA & NA & NA\\\\\n",
       "\\end{tabular}\n"
      ],
      "text/markdown": [
       "\n",
       "A tibble: 6 × 64\n",
       "\n",
       "| DATE &lt;chr&gt; | Week &lt;dbl&gt; | facebook_cost &lt;dbl&gt; | facebook_impression &lt;dbl&gt; | facebook_click &lt;dbl&gt; | fb_cost &lt;dbl&gt; | fb_impression &lt;dbl&gt; | fb_click &lt;dbl&gt; | search_cost &lt;dbl&gt; | search_impression &lt;dbl&gt; | ⋯ ⋯ | idealo_click &lt;dbl&gt; | idealo_cost &lt;dbl&gt; | newsletter &lt;dbl&gt; | compleanno_yeppon &lt;dbl&gt; | compleanno_yeppon_weighted &lt;dbl&gt; | black_friday &lt;dbl&gt; | black_friday_weighted &lt;dbl&gt; | error_404 &lt;dbl&gt; | marzo &lt;dbl&gt; | marzo_weighted &lt;dbl&gt; |\n",
       "|---|---|---|---|---|---|---|---|---|---|---|---|---|---|---|---|---|---|---|---|---|\n",
       "| 15/07/24 | 29 | 1348.94 | 371134 | 8090 | 1559.09 | 473853 | 9261 | 763.13 | 4963 | ⋯ | 1348 | 320.96 | NA | NA | NA | NA | NA | NA | NA | NA |\n",
       "| 22/07/24 | 30 | 1233.79 | 418326 | 7936 | 1432.54 | 519415 | 9141 | 712.15 | 4260 | ⋯ | 1920 | 455.04 | NA | NA | NA | NA | NA | NA | NA | NA |\n",
       "| 29/07/24 | 31 | 1132.78 | 444746 | 7441 | 1288.90 | 542632 | 8570 | 647.81 | 4321 | ⋯ | 2139 | 508.13 | NA | NA | NA | NA | NA | NA | NA | NA |\n",
       "| 05/08/24 | 32 |  894.16 | 333448 | 6714 | 1033.95 | 422838 | 7636 | 586.32 | 3243 | ⋯ | 1944 | 460.72 | NA | NA | NA | NA | NA | NA | NA | NA |\n",
       "| 12/08/24 | 33 |  768.43 | 258399 | 7982 |  884.12 | 341120 | 8955 | 411.83 | 2950 | ⋯ | 1641 | 389.92 | NA | NA | NA | NA | NA | NA | NA | NA |\n",
       "| 19/08/24 | 34 |  766.68 | 256492 | 7882 |  938.86 | 363932 | 9238 | 485.31 | 3600 | ⋯ | 2128 | 506.18 | NA | NA | NA | NA | NA | NA | NA | NA |\n",
       "\n"
      ],
      "text/plain": [
       "  DATE     Week facebook_cost facebook_impression facebook_click fb_cost\n",
       "1 15/07/24 29   1348.94       371134              8090           1559.09\n",
       "2 22/07/24 30   1233.79       418326              7936           1432.54\n",
       "3 29/07/24 31   1132.78       444746              7441           1288.90\n",
       "4 05/08/24 32    894.16       333448              6714           1033.95\n",
       "5 12/08/24 33    768.43       258399              7982            884.12\n",
       "6 19/08/24 34    766.68       256492              7882            938.86\n",
       "  fb_impression fb_click search_cost search_impression ⋯ idealo_click\n",
       "1 473853        9261     763.13      4963              ⋯ 1348        \n",
       "2 519415        9141     712.15      4260              ⋯ 1920        \n",
       "3 542632        8570     647.81      4321              ⋯ 2139        \n",
       "4 422838        7636     586.32      3243              ⋯ 1944        \n",
       "5 341120        8955     411.83      2950              ⋯ 1641        \n",
       "6 363932        9238     485.31      3600              ⋯ 2128        \n",
       "  idealo_cost newsletter compleanno_yeppon compleanno_yeppon_weighted\n",
       "1 320.96      NA         NA                NA                        \n",
       "2 455.04      NA         NA                NA                        \n",
       "3 508.13      NA         NA                NA                        \n",
       "4 460.72      NA         NA                NA                        \n",
       "5 389.92      NA         NA                NA                        \n",
       "6 506.18      NA         NA                NA                        \n",
       "  black_friday black_friday_weighted error_404 marzo marzo_weighted\n",
       "1 NA           NA                    NA        NA    NA            \n",
       "2 NA           NA                    NA        NA    NA            \n",
       "3 NA           NA                    NA        NA    NA            \n",
       "4 NA           NA                    NA        NA    NA            \n",
       "5 NA           NA                    NA        NA    NA            \n",
       "6 NA           NA                    NA        NA    NA            "
      ]
     },
     "metadata": {},
     "output_type": "display_data"
    }
   ],
   "source": [
    "tail(df)"
   ]
  },
  {
   "cell_type": "code",
   "execution_count": 12,
   "id": "169aa8fa-89f7-4035-8442-89319d7729bd",
   "metadata": {},
   "outputs": [
    {
     "data": {
      "text/html": [
       "<style>\n",
       ".dl-inline {width: auto; margin:0; padding: 0}\n",
       ".dl-inline>dt, .dl-inline>dd {float: none; width: auto; display: inline-block}\n",
       ".dl-inline>dt::after {content: \":\\0020\"; padding-right: .5ex}\n",
       ".dl-inline>dt:not(:first-of-type) {padding-left: .5ex}\n",
       "</style><dl class=dl-inline><dt>DATE</dt><dd>0</dd><dt>Week</dt><dd>0</dd><dt>facebook_cost</dt><dd>0</dd><dt>facebook_impression</dt><dd>0</dd><dt>facebook_click</dt><dd>0</dd><dt>fb_cost</dt><dd>0</dd><dt>fb_impression</dt><dd>0</dd><dt>fb_click</dt><dd>0</dd><dt>search_cost</dt><dd>0</dd><dt>search_impression</dt><dd>0</dd><dt>search_click</dt><dd>0</dd><dt>display_cost</dt><dd>0</dd><dt>display_impression</dt><dd>0</dd><dt>display_click</dt><dd>0</dd><dt>discovery_cost</dt><dd>0</dd><dt>discovery_impresssion</dt><dd>0</dd><dt>discovery_click</dt><dd>0</dd><dt>shopping_cost</dt><dd>0</dd><dt>shopping_impression</dt><dd>0</dd><dt>shopping_click</dt><dd>0</dd><dt>youtube_cost</dt><dd>0</dd><dt>youtube_impression</dt><dd>0</dd><dt>youtube_click</dt><dd>0</dd><dt>bing_cost</dt><dd>0</dd><dt>bing_impression</dt><dd>0</dd><dt>bing_click</dt><dd>0</dd><dt>bingS_cost</dt><dd>0</dd><dt>bingS_impression</dt><dd>0</dd><dt>bingS_click</dt><dd>0</dd><dt>bingP_cost</dt><dd>0</dd><dt>bingP_impression</dt><dd>0</dd><dt>bingP_click</dt><dd>0</dd><dt>rtg_cost</dt><dd>0</dd><dt>rtg_impression</dt><dd>0</dd><dt>rtg_click</dt><dd>0</dd><dt>rtbhouse_impression</dt><dd>0</dd><dt>rtbhouse_click</dt><dd>0</dd><dt>rtbhouse_cost</dt><dd>0</dd><dt>criteo_impression</dt><dd>0</dd><dt>criteo_click</dt><dd>0</dd><dt>criteo_cost</dt><dd>0</dd><dt>tv_cost</dt><dd>0</dd><dt>tv_grp</dt><dd>0</dd><dt>banner_impression</dt><dd>0</dd><dt>banner_click</dt><dd>0</dd><dt>banner_cost</dt><dd>0</dd><dt>radio_impression</dt><dd>0</dd><dt>radio_cost</dt><dd>0</dd><dt>ctv_impression</dt><dd>0</dd><dt>ctv_cost</dt><dd>0</dd><dt>conversion</dt><dd>0</dd><dt>revenue</dt><dd>0</dd><dt>trova_click</dt><dd>0</dd><dt>trova_cost</dt><dd>0</dd><dt>idealo_click</dt><dd>0</dd><dt>idealo_cost</dt><dd>0</dd><dt>newsletter</dt><dd>12</dd><dt>compleanno_yeppon</dt><dd>12</dd><dt>compleanno_yeppon_weighted</dt><dd>12</dd><dt>black_friday</dt><dd>12</dd><dt>black_friday_weighted</dt><dd>12</dd><dt>error_404</dt><dd>12</dd><dt>marzo</dt><dd>12</dd><dt>marzo_weighted</dt><dd>12</dd></dl>\n"
      ],
      "text/latex": [
       "\\begin{description*}\n",
       "\\item[DATE] 0\n",
       "\\item[Week] 0\n",
       "\\item[facebook\\textbackslash{}\\_cost] 0\n",
       "\\item[facebook\\textbackslash{}\\_impression] 0\n",
       "\\item[facebook\\textbackslash{}\\_click] 0\n",
       "\\item[fb\\textbackslash{}\\_cost] 0\n",
       "\\item[fb\\textbackslash{}\\_impression] 0\n",
       "\\item[fb\\textbackslash{}\\_click] 0\n",
       "\\item[search\\textbackslash{}\\_cost] 0\n",
       "\\item[search\\textbackslash{}\\_impression] 0\n",
       "\\item[search\\textbackslash{}\\_click] 0\n",
       "\\item[display\\textbackslash{}\\_cost] 0\n",
       "\\item[display\\textbackslash{}\\_impression] 0\n",
       "\\item[display\\textbackslash{}\\_click] 0\n",
       "\\item[discovery\\textbackslash{}\\_cost] 0\n",
       "\\item[discovery\\textbackslash{}\\_impresssion] 0\n",
       "\\item[discovery\\textbackslash{}\\_click] 0\n",
       "\\item[shopping\\textbackslash{}\\_cost] 0\n",
       "\\item[shopping\\textbackslash{}\\_impression] 0\n",
       "\\item[shopping\\textbackslash{}\\_click] 0\n",
       "\\item[youtube\\textbackslash{}\\_cost] 0\n",
       "\\item[youtube\\textbackslash{}\\_impression] 0\n",
       "\\item[youtube\\textbackslash{}\\_click] 0\n",
       "\\item[bing\\textbackslash{}\\_cost] 0\n",
       "\\item[bing\\textbackslash{}\\_impression] 0\n",
       "\\item[bing\\textbackslash{}\\_click] 0\n",
       "\\item[bingS\\textbackslash{}\\_cost] 0\n",
       "\\item[bingS\\textbackslash{}\\_impression] 0\n",
       "\\item[bingS\\textbackslash{}\\_click] 0\n",
       "\\item[bingP\\textbackslash{}\\_cost] 0\n",
       "\\item[bingP\\textbackslash{}\\_impression] 0\n",
       "\\item[bingP\\textbackslash{}\\_click] 0\n",
       "\\item[rtg\\textbackslash{}\\_cost] 0\n",
       "\\item[rtg\\textbackslash{}\\_impression] 0\n",
       "\\item[rtg\\textbackslash{}\\_click] 0\n",
       "\\item[rtbhouse\\textbackslash{}\\_impression] 0\n",
       "\\item[rtbhouse\\textbackslash{}\\_click] 0\n",
       "\\item[rtbhouse\\textbackslash{}\\_cost] 0\n",
       "\\item[criteo\\textbackslash{}\\_impression] 0\n",
       "\\item[criteo\\textbackslash{}\\_click] 0\n",
       "\\item[criteo\\textbackslash{}\\_cost] 0\n",
       "\\item[tv\\textbackslash{}\\_cost] 0\n",
       "\\item[tv\\textbackslash{}\\_grp] 0\n",
       "\\item[banner\\textbackslash{}\\_impression] 0\n",
       "\\item[banner\\textbackslash{}\\_click] 0\n",
       "\\item[banner\\textbackslash{}\\_cost] 0\n",
       "\\item[radio\\textbackslash{}\\_impression] 0\n",
       "\\item[radio\\textbackslash{}\\_cost] 0\n",
       "\\item[ctv\\textbackslash{}\\_impression] 0\n",
       "\\item[ctv\\textbackslash{}\\_cost] 0\n",
       "\\item[conversion] 0\n",
       "\\item[revenue] 0\n",
       "\\item[trova\\textbackslash{}\\_click] 0\n",
       "\\item[trova\\textbackslash{}\\_cost] 0\n",
       "\\item[idealo\\textbackslash{}\\_click] 0\n",
       "\\item[idealo\\textbackslash{}\\_cost] 0\n",
       "\\item[newsletter] 12\n",
       "\\item[compleanno\\textbackslash{}\\_yeppon] 12\n",
       "\\item[compleanno\\textbackslash{}\\_yeppon\\textbackslash{}\\_weighted] 12\n",
       "\\item[black\\textbackslash{}\\_friday] 12\n",
       "\\item[black\\textbackslash{}\\_friday\\textbackslash{}\\_weighted] 12\n",
       "\\item[error\\textbackslash{}\\_404] 12\n",
       "\\item[marzo] 12\n",
       "\\item[marzo\\textbackslash{}\\_weighted] 12\n",
       "\\end{description*}\n"
      ],
      "text/markdown": [
       "DATE\n",
       ":   0Week\n",
       ":   0facebook_cost\n",
       ":   0facebook_impression\n",
       ":   0facebook_click\n",
       ":   0fb_cost\n",
       ":   0fb_impression\n",
       ":   0fb_click\n",
       ":   0search_cost\n",
       ":   0search_impression\n",
       ":   0search_click\n",
       ":   0display_cost\n",
       ":   0display_impression\n",
       ":   0display_click\n",
       ":   0discovery_cost\n",
       ":   0discovery_impresssion\n",
       ":   0discovery_click\n",
       ":   0shopping_cost\n",
       ":   0shopping_impression\n",
       ":   0shopping_click\n",
       ":   0youtube_cost\n",
       ":   0youtube_impression\n",
       ":   0youtube_click\n",
       ":   0bing_cost\n",
       ":   0bing_impression\n",
       ":   0bing_click\n",
       ":   0bingS_cost\n",
       ":   0bingS_impression\n",
       ":   0bingS_click\n",
       ":   0bingP_cost\n",
       ":   0bingP_impression\n",
       ":   0bingP_click\n",
       ":   0rtg_cost\n",
       ":   0rtg_impression\n",
       ":   0rtg_click\n",
       ":   0rtbhouse_impression\n",
       ":   0rtbhouse_click\n",
       ":   0rtbhouse_cost\n",
       ":   0criteo_impression\n",
       ":   0criteo_click\n",
       ":   0criteo_cost\n",
       ":   0tv_cost\n",
       ":   0tv_grp\n",
       ":   0banner_impression\n",
       ":   0banner_click\n",
       ":   0banner_cost\n",
       ":   0radio_impression\n",
       ":   0radio_cost\n",
       ":   0ctv_impression\n",
       ":   0ctv_cost\n",
       ":   0conversion\n",
       ":   0revenue\n",
       ":   0trova_click\n",
       ":   0trova_cost\n",
       ":   0idealo_click\n",
       ":   0idealo_cost\n",
       ":   0newsletter\n",
       ":   12compleanno_yeppon\n",
       ":   12compleanno_yeppon_weighted\n",
       ":   12black_friday\n",
       ":   12black_friday_weighted\n",
       ":   12error_404\n",
       ":   12marzo\n",
       ":   12marzo_weighted\n",
       ":   12\n",
       "\n"
      ],
      "text/plain": [
       "                      DATE                       Week \n",
       "                         0                          0 \n",
       "             facebook_cost        facebook_impression \n",
       "                         0                          0 \n",
       "            facebook_click                    fb_cost \n",
       "                         0                          0 \n",
       "             fb_impression                   fb_click \n",
       "                         0                          0 \n",
       "               search_cost          search_impression \n",
       "                         0                          0 \n",
       "              search_click               display_cost \n",
       "                         0                          0 \n",
       "        display_impression              display_click \n",
       "                         0                          0 \n",
       "            discovery_cost      discovery_impresssion \n",
       "                         0                          0 \n",
       "           discovery_click              shopping_cost \n",
       "                         0                          0 \n",
       "       shopping_impression             shopping_click \n",
       "                         0                          0 \n",
       "              youtube_cost         youtube_impression \n",
       "                         0                          0 \n",
       "             youtube_click                  bing_cost \n",
       "                         0                          0 \n",
       "           bing_impression                 bing_click \n",
       "                         0                          0 \n",
       "                bingS_cost           bingS_impression \n",
       "                         0                          0 \n",
       "               bingS_click                 bingP_cost \n",
       "                         0                          0 \n",
       "          bingP_impression                bingP_click \n",
       "                         0                          0 \n",
       "                  rtg_cost             rtg_impression \n",
       "                         0                          0 \n",
       "                 rtg_click        rtbhouse_impression \n",
       "                         0                          0 \n",
       "            rtbhouse_click              rtbhouse_cost \n",
       "                         0                          0 \n",
       "         criteo_impression               criteo_click \n",
       "                         0                          0 \n",
       "               criteo_cost                    tv_cost \n",
       "                         0                          0 \n",
       "                    tv_grp          banner_impression \n",
       "                         0                          0 \n",
       "              banner_click                banner_cost \n",
       "                         0                          0 \n",
       "          radio_impression                 radio_cost \n",
       "                         0                          0 \n",
       "            ctv_impression                   ctv_cost \n",
       "                         0                          0 \n",
       "                conversion                    revenue \n",
       "                         0                          0 \n",
       "               trova_click                 trova_cost \n",
       "                         0                          0 \n",
       "              idealo_click                idealo_cost \n",
       "                         0                          0 \n",
       "                newsletter          compleanno_yeppon \n",
       "                        12                         12 \n",
       "compleanno_yeppon_weighted               black_friday \n",
       "                        12                         12 \n",
       "     black_friday_weighted                  error_404 \n",
       "                        12                         12 \n",
       "                     marzo             marzo_weighted \n",
       "                        12                         12 "
      ]
     },
     "metadata": {},
     "output_type": "display_data"
    }
   ],
   "source": [
    "colSums(is.na(df))"
   ]
  },
  {
   "cell_type": "code",
   "execution_count": 13,
   "id": "6c2c4d9a-e088-4906-8afd-bf448ce9d854",
   "metadata": {},
   "outputs": [],
   "source": [
    "df[is.na(df)] <- 0"
   ]
  },
  {
   "cell_type": "code",
   "execution_count": 14,
   "id": "aeae5315-d3f9-43b2-9eda-166384fb4a4b",
   "metadata": {},
   "outputs": [
    {
     "name": "stdout",
     "output_type": "stream",
     "text": [
      "[1] \"Numero di righe con almeno un NA: 0\"\n"
     ]
    }
   ],
   "source": [
    "num_rows_with_na <- sum(apply(df, 1, function(row) any(is.na(row)))) \n",
    "print(paste(\"Numero di righe con almeno un NA:\", num_rows_with_na))"
   ]
  },
  {
   "cell_type": "code",
   "execution_count": 15,
   "id": "e1e42a07-5fee-4056-9a8a-2f57eb774c9f",
   "metadata": {},
   "outputs": [],
   "source": [
    "df$Week<-as.numeric(df$Week)"
   ]
  },
  {
   "cell_type": "code",
   "execution_count": 19,
   "id": "4244d284-bc86-4e38-bc46-21d026c9a71c",
   "metadata": {},
   "outputs": [],
   "source": [
    "df$DATE <- dmy(df$DATE)"
   ]
  },
  {
   "cell_type": "code",
   "execution_count": 20,
   "id": "beef357d-e7c6-42f3-a347-d8e29f36059d",
   "metadata": {},
   "outputs": [],
   "source": [
    "json_file <- \"~/Desktop/RobynModel-1_136_7.json\""
   ]
  },
  {
   "cell_type": "code",
   "execution_count": 21,
   "id": "5bd04bb0-5c72-4296-9896-bdb5d005dde5",
   "metadata": {},
   "outputs": [
    {
     "name": "stderr",
     "output_type": "stream",
     "text": [
      "NOTE: Directory from JSON file doesn't exist: /Users/francescoschena/Documents/MMM/Yeppon/Robyn_202406141810_rf1/\n",
      ">> Using current working directory for outputs: /Users/digitalangels\n",
      "\n",
      ">>> Recreating 1_136_7\n",
      "\n",
      "Imported JSON file successfully: ~/Desktop/RobynModel-1_136_7.json\n",
      "\n",
      ">> Running feature engineering...\n",
      "\n",
      "NOTE: potential improvement on splitting channels for better exposure fitting. Threshold (Minimum R2) = 0.8 \n",
      "  Check: InputCollect$modNLS$plots outputs\n",
      "  Weak relationship for: 'facebook_impression', 'display_impression', 'shopping_impression', 'youtube_impression', 'bingS_click', 'search_impression', 'criteo_impression', 'trova_click', 'idealo_click' and their spend\n",
      "\n",
      "Input data has 236 weeks in total: 2020-02-17 to 2024-08-19\n",
      "\n",
      "Refresh #1 model is built on rolling window of 211 week: 2020-05-04 to 2024-05-13\n",
      "\n",
      "Rolling window moving forward: 11 weeks\n",
      "\n",
      ">>> Calculating response curves for all models' media variables (11)...\n",
      "\n",
      "Successfully recreated model ID: 1_136_7\n",
      "\n",
      "Skipping chain. File can't be found: /Users/francescoschena/Documents/MMM/Yeppon/Robyn_202406141810_rf1/RobynModel-4_326_4.json\n",
      "\n",
      "Warning message in robyn_chain(json_file):\n",
      "“Can't replicate chain-like results if you don't follow Robyn's chain structure”\n",
      "\n",
      ">>> Building refresh model #2 in manual mode\n",
      "\n",
      ">>> New bounds freedom: 6.16%\n",
      "\n",
      ">> Running feature engineering...\n",
      "\n",
      "NOTE: potential improvement on splitting channels for better exposure fitting. Threshold (Minimum R2) = 0.8 \n",
      "  Check: InputCollect$modNLS$plots outputs\n",
      "  Weak relationship for: 'display_impression', 'shopping_impression', 'youtube_impression', 'bingS_click', 'search_impression', 'criteo_impression', 'trova_click', 'idealo_click' and their spend\n",
      "\n",
      "Warning message in check_prophet(dt_holidays, prophet_country, prophet_vars, prophet_signs, :\n",
      "“Input 'prophet_country' is defined as IT but 'holiday' is not setup within 'prophet_vars' parameter”\n",
      "Input data has 236 weeks in total: 2020-02-17 to 2024-08-19\n",
      "\n",
      "Refresh #2 model is built on rolling window of 211 week: 2020-08-03 to 2024-08-12\n",
      "\n",
      "Rolling window moving forward: 13 weeks\n",
      "\n",
      "Fitting time series with all available data...\n",
      "\n",
      "Using geometric adstocking with 35 hyperparameters (34 to iterate + 1 fixed) on 7 cores\n",
      "\n",
      ">>> Starting 1 trials with 1000 iterations each using TwoPointsDE nevergrad algorithm...\n",
      "\n",
      "  Running trial 1 of 1\n",
      "\n"
     ]
    },
    {
     "name": "stdout",
     "output_type": "stream",
     "text": [
      "  |======================================================================|  99%\n",
      "  Finished in 0.45 mins\n"
     ]
    },
    {
     "name": "stderr",
     "output_type": "stream",
     "text": [
      "- DECOMP.RSSD converged: sd@qt.20 0.026 <= 0.029 & |med@qt.20| 0.066 <= 0.07\n",
      "- NRMSE converged: sd@qt.20 0.00091 <= 0.0054 & |med@qt.20| 0.055 <= 0.056\n",
      "\n",
      "Total run time: 0.51 mins\n",
      "\n",
      ">>> Running Pareto calculations for 1000 models on auto fronts...\n",
      "\n",
      ">> Automatically selected 1 Pareto-fronts to contain at least 100 pareto-optimal models (139)\n",
      "\n",
      ">>> Calculating response curves for all models' media variables (1529)...\n",
      "\n",
      ">> Pareto-Front: 1 [139 models]\n",
      "\n"
     ]
    },
    {
     "name": "stdout",
     "output_type": "stream",
     "text": [
      " 00:00:10 [=========================================] 100% | 139                      \n"
     ]
    },
    {
     "name": "stderr",
     "output_type": "stream",
     "text": [
      "Creating directory for outputs: /Users/digitalangels/Robyn_202409181211_rf2/\n",
      "\n",
      ">>> Calculating clusters for model selection using Pareto fronts...\n",
      "\n",
      ">> Auto selected k = 3 (clusters) based on minimum WSS variance of 6%\n",
      "\n",
      ">>> Collecting 139 pareto-optimum results into: /Users/digitalangels/Robyn_202409181211_rf2/\n",
      "\n",
      ">> Exporting general plots into directory...\n",
      "\n",
      ">> Exporting pareto results as CSVs into directory...\n",
      "\n",
      ">>> Exporting pareto one-pagers into directory...\n",
      "\n",
      "Exporting charts as: /Users/digitalangels/Robyn_202409181211_rf2/1_90_4.png\n",
      "\n",
      ">> Exported models as /Users/digitalangels/Robyn_202409181211_rf2/RobynModel-models.json\n",
      "\n",
      "Selected model ID: 1_90_4 for refresh model #2 based on the smallest DECOMP.RSSD error\n",
      "\n",
      ">> Exported 1_90_4 as /Users/digitalangels/Robyn_202409181211_rf2/RobynModel-1_90_4.json\n",
      "\n",
      "Skipping chain. File can't be found: /Users/digitalangels/Robyn_202409181211_rf2/NA/RobynModel-1_136_7.json\n",
      "\n",
      "Skipping chain. File can't be found: /Users/digitalangels/Robyn_202409181211_rf2/RobynModel-1_136_7.json\n",
      "\n",
      "Warning message in robyn_chain(json_file):\n",
      "“Can't replicate chain-like results if you don't follow Robyn's chain structure”\n",
      ">> Plotting refresh results for chain: 1_90_4\n",
      "\n",
      ">>> Exporting refresh CSVs into directory: /Users/digitalangels/Robyn_202409181211_rf2/\n",
      "\n"
     ]
    }
   ],
   "source": [
    "RobynRefresh <- robyn_refresh(\n",
    "  json_file = json_file,\n",
    "  dt_input = df,\n",
    "  dt_holidays = dt_prophet_holidays,\n",
    "  window_start = \"27-05-2024\",\n",
    "  refresh_steps = 13,\n",
    "  refresh_iters = 1000, \n",
    "  refresh_trials = 1\n",
    ")"
   ]
  },
  {
   "cell_type": "code",
   "execution_count": null,
   "id": "ee33271c-ee7c-4699-8934-429633ca5b81",
   "metadata": {},
   "outputs": [],
   "source": []
  },
  {
   "cell_type": "code",
   "execution_count": 23,
   "id": "33b11a32-c27c-41c5-9890-066e5b6c062e",
   "metadata": {},
   "outputs": [],
   "source": [
    "InputCollectX <- RobynRefresh$listRefresh1$InputCollect\n",
    "OutputCollectX <- RobynRefresh$listRefresh1$OutputCollect\n",
    "select_modelX <- RobynRefresh$listRefresh1$OutputCollect$selectID\n"
   ]
  },
  {
   "cell_type": "code",
   "execution_count": 24,
   "id": "05b8ee55-1b7f-411c-8f05-ec05169098ef",
   "metadata": {},
   "outputs": [
    {
     "name": "stderr",
     "output_type": "stream",
     "text": [
      ">>> Running budget allocator for model ID 1_90_4 ...\n",
      "\n",
      "Date Window: 2023-10-02:2023-12-25 (13 weeks)\n",
      "\n",
      "Media variables with 0 spending during date range: 'discovery_cost', 'display_cost', 'tv_cost', 'youtube_cost'\n",
      "\n",
      "Excluded variables (constrained to 0): discovery_cost, display_cost, tv_cost, youtube_cost\n",
      "\n",
      "Excluded variables (coefficients are 0): display_cost\n",
      "\n",
      "Warning message in min(diff(unique_loc)):\n",
      "“nessun argomento non-mancante al minimo; si restituisce Inf”\n",
      "Warning message in min(diff(unique_loc)):\n",
      "“nessun argomento non-mancante al minimo; si restituisce Inf”\n",
      "Warning message in min(diff(unique_loc)):\n",
      "“nessun argomento non-mancante al minimo; si restituisce Inf”\n",
      "Warning message in min(diff(unique_loc)):\n",
      "“nessun argomento non-mancante al minimo; si restituisce Inf”\n",
      "Warning message in min(diff(unique_loc)):\n",
      "“nessun argomento non-mancante al minimo; si restituisce Inf”\n",
      "Exporting to: /Users/digitalangels/Robyn_202409181211_rf2/1_90_4_reallocated_best_roas.png\n",
      "\n"
     ]
    }
   ],
   "source": [
    "AllocatorCollect <- robyn_allocator(\n",
    "  InputCollect = InputCollectX,\n",
    "  OutputCollect = OutputCollectX,\n",
    "  select_model = select_modelX,\n",
    "  date_range = c(\"2023-10-02\", \"2023-12-25\"),\n",
    "  total_budget = 216660,\n",
    "  channel_constr_low = c(0.88,0.0,0.0,0.6,0.0,0.3,0.52,0.48,0.0,0.65,1.03),\n",
    "  channel_constr_up = c(1.65, 0.0, 0.0, 1.3, 0.0,0.6,0.82,0.63,0.0,1.15,1.03),\n",
    "  scenario = \"max_response\",\n",
    "  export = create_files\n",
    ")"
   ]
  },
  {
   "cell_type": "code",
   "execution_count": null,
   "id": "4c7dd5b9-c5f1-4767-910f-eb8b5ac3ba4e",
   "metadata": {},
   "outputs": [],
   "source": []
  }
 ],
 "metadata": {
  "kernelspec": {
   "display_name": "R",
   "language": "R",
   "name": "ir"
  },
  "language_info": {
   "codemirror_mode": "r",
   "file_extension": ".r",
   "mimetype": "text/x-r-source",
   "name": "R",
   "pygments_lexer": "r",
   "version": "4.4.1"
  }
 },
 "nbformat": 4,
 "nbformat_minor": 5
}
