{
 "cells": [
  {
   "cell_type": "markdown",
   "id": "3dff182c-63dc-4b33-8a5d-e1cf702810bc",
   "metadata": {},
   "source": [
    "# Refresh Q4 2024 "
   ]
  },
  {
   "cell_type": "code",
   "execution_count": null,
   "id": "8330ed94-1a1a-42b4-896f-aaa6add8975d",
   "metadata": {},
   "outputs": [],
   "source": [
    "library(googlesheets4)\n",
    "library(Robyn)\n",
    "library(lubridate) "
   ]
  },
  {
   "cell_type": "code",
   "execution_count": null,
   "id": "b9689e09-ee2a-41c5-9926-f3fb8e0e8b11",
   "metadata": {},
   "outputs": [],
   "source": [
    "sheet_url <-''"
   ]
  },
  {
   "cell_type": "code",
   "execution_count": null,
   "id": "0257b1c3-958e-42ec-badb-e2fcd13da41d",
   "metadata": {},
   "outputs": [],
   "source": [
    "df <- read_sheet(sheet_url)"
   ]
  },
  {
   "cell_type": "code",
   "execution_count": null,
   "id": "bf46a790-1bf9-4eae-8c58-93d7d856b0ac",
   "metadata": {},
   "outputs": [],
   "source": [
    "tail(df)"
   ]
  },
  {
   "cell_type": "code",
   "execution_count": null,
   "id": "6b068482-0305-451c-b995-fbf7bd669c7c",
   "metadata": {},
   "outputs": [],
   "source": [
    "num_rows_with_na <- sum(apply(df, 1, function(row) any(is.na(row)))) \n",
    "print(paste(\"Numero di righe con almeno un NA:\", num_rows_with_na))"
   ]
  },
  {
   "cell_type": "code",
   "execution_count": null,
   "id": "9e73c3c2-deb9-40da-8910-6845f51d7859",
   "metadata": {},
   "outputs": [],
   "source": [
    "num_rows_with_multiple_nas <- sum(apply(df, 1, function(row) sum(is.na(row)) > 1))\n",
    "print(paste(\"Numero di righe con più di un NA:\", num_rows_with_multiple_nas))"
   ]
  },
  {
   "cell_type": "code",
   "execution_count": null,
   "id": "694930c4-a8a0-4938-af9a-ba4062854d23",
   "metadata": {},
   "outputs": [],
   "source": [
    "df <- df[1:236, ]"
   ]
  },
  {
   "cell_type": "code",
   "execution_count": null,
   "id": "272628f0-efc0-4771-9eb0-e1954dc59aa1",
   "metadata": {},
   "outputs": [],
   "source": [
    "tail(df)"
   ]
  },
  {
   "cell_type": "code",
   "execution_count": null,
   "id": "169aa8fa-89f7-4035-8442-89319d7729bd",
   "metadata": {},
   "outputs": [],
   "source": [
    "colSums(is.na(df))"
   ]
  },
  {
   "cell_type": "code",
   "execution_count": null,
   "id": "6c2c4d9a-e088-4906-8afd-bf448ce9d854",
   "metadata": {},
   "outputs": [],
   "source": [
    "df[is.na(df)] <- 0"
   ]
  },
  {
   "cell_type": "code",
   "execution_count": null,
   "id": "aeae5315-d3f9-43b2-9eda-166384fb4a4b",
   "metadata": {},
   "outputs": [],
   "source": [
    "num_rows_with_na <- sum(apply(df, 1, function(row) any(is.na(row)))) \n",
    "print(paste(\"Numero di righe con almeno un NA:\", num_rows_with_na))"
   ]
  },
  {
   "cell_type": "code",
   "execution_count": null,
   "id": "e1e42a07-5fee-4056-9a8a-2f57eb774c9f",
   "metadata": {},
   "outputs": [],
   "source": [
    "df$Week<-as.numeric(df$Week)"
   ]
  },
  {
   "cell_type": "code",
   "execution_count": null,
   "id": "4244d284-bc86-4e38-bc46-21d026c9a71c",
   "metadata": {},
   "outputs": [],
   "source": [
    "df$DATE <- dmy(df$DATE)"
   ]
  },
  {
   "cell_type": "code",
   "execution_count": null,
   "id": "beef357d-e7c6-42f3-a347-d8e29f36059d",
   "metadata": {},
   "outputs": [],
   "source": [
    "json_file <- \"~/Desktop/RobynModel-1_136_7.json\""
   ]
  },
  {
   "cell_type": "code",
   "execution_count": null,
   "id": "5bd04bb0-5c72-4296-9896-bdb5d005dde5",
   "metadata": {},
   "outputs": [],
   "source": [
    "RobynRefresh <- robyn_refresh(\n",
    "  json_file = json_file,\n",
    "  dt_input = df,\n",
    "  dt_holidays = dt_prophet_holidays,\n",
    "  window_start = \"27-05-2024\",\n",
    "  refresh_steps = 13,\n",
    "  refresh_iters = 1000, \n",
    "  refresh_trials = 1\n",
    ")"
   ]
  },
  {
   "cell_type": "code",
   "execution_count": null,
   "id": "33b11a32-c27c-41c5-9890-066e5b6c062e",
   "metadata": {},
   "outputs": [],
   "source": [
    "InputCollectX <- RobynRefresh$listRefresh1$InputCollect\n",
    "OutputCollectX <- RobynRefresh$listRefresh1$OutputCollect\n",
    "select_modelX <- RobynRefresh$listRefresh1$OutputCollect$selectID\n"
   ]
  },
  {
   "cell_type": "code",
   "execution_count": null,
   "id": "05b8ee55-1b7f-411c-8f05-ec05169098ef",
   "metadata": {},
   "outputs": [],
   "source": [
    "AllocatorCollect <- robyn_allocator(\n",
    "  InputCollect = InputCollectX,\n",
    "  OutputCollect = OutputCollectX,\n",
    "  select_model = select_modelX,\n",
    "  date_range = c(\"2023-10-02\", \"2023-12-25\"),\n",
    "  total_budget = 216660,\n",
    "  channel_constr_low = c(0.88,0.0,0.0,0.6,0.0,0.3,0.52,0.48,0.0,0.65,1.03),\n",
    "  channel_constr_up = c(1.65, 0.0, 0.0, 1.3, 0.0,0.6,0.82,0.63,0.0,1.15,1.03),\n",
    "  scenario = \"max_response\",\n",
    "  export = create_files\n",
    ")"
   ]
  }
 ],
 "metadata": {
  "kernelspec": {
   "display_name": "R",
   "language": "R",
   "name": "ir"
  },
  "language_info": {
   "codemirror_mode": "r",
   "file_extension": ".r",
   "mimetype": "text/x-r-source",
   "name": "R",
   "pygments_lexer": "r",
   "version": "4.4.1"
  }
 },
 "nbformat": 4,
 "nbformat_minor": 5
}
