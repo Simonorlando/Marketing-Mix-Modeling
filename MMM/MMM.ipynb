{
 "cells": [
  {
   "cell_type": "markdown",
   "id": "26b95ffc-f843-4783-8537-e7b989d38846",
   "metadata": {},
   "source": [
    "# Robyn MMM "
   ]
  },
  {
   "cell_type": "markdown",
   "id": "d88c9fdb-17bf-4808-a8ec-39d6bfef84b0",
   "metadata": {},
   "source": [
    "## 1) Importare pacchetti, scegliere la directory del json del modello e caricare il dataset"
   ]
  },
  {
   "cell_type": "markdown",
   "id": "d22031e3-a994-476a-84af-34d658fa2a12",
   "metadata": {},
   "source": [
    "### Importare pacchetti "
   ]
  },
  {
   "cell_type": "code",
   "execution_count": null,
   "id": "ca690e7b-5563-425e-b7b9-dec01270483c",
   "metadata": {},
   "outputs": [],
   "source": [
    "library(readxl)\n",
    "library(reshape2)\n",
    "library(ggplot2)\n",
    "library(googlesheets4) \n",
    "library(reshape2)\n",
    "library(Robyn)\n",
    "library(lubridate) \n",
    "library(png) # facoltativo\n",
    "library(grid) # facoltativo\n",
    "library(magick) # facoltativo"
   ]
  },
  {
   "cell_type": "markdown",
   "id": "6f943c1b-ba5f-4155-8a64-43e9beca079f",
   "metadata": {},
   "source": [
    "### Scegliere la directory per il file json finale "
   ]
  },
  {
   "cell_type": "code",
   "execution_count": null,
   "id": "b4bfcbf0-9645-4f8a-b2be-166e0b6825c8",
   "metadata": {},
   "outputs": [],
   "source": [
    "create_files <- TRUE\n",
    "robyn_directory <- \"~/Desktop\"\n",
    "file_path <- \".xlsx\"  "
   ]
  },
  {
   "cell_type": "markdown",
   "id": "bba0c17d-815d-4b7e-845f-580bce0cc561",
   "metadata": {},
   "source": [
    "### Valutare la classe delle variabili DATE e Week"
   ]
  },
  {
   "cell_type": "code",
   "execution_count": null,
   "id": "17be031d-f12d-4d7d-beaf-5693076755a2",
   "metadata": {},
   "outputs": [],
   "source": [
    "class(df$Week)"
   ]
  },
  {
   "cell_type": "code",
   "execution_count": null,
   "id": "c8ad2b4c-6ddd-405f-a701-96df89cfecc3",
   "metadata": {},
   "outputs": [],
   "source": [
    "class(df$DATE)"
   ]
  },
  {
   "cell_type": "markdown",
   "id": "44376f83-848c-4001-b537-b9e5f383cfb4",
   "metadata": {},
   "source": [
    "La variabile week è numeirca, mentre la variabile DATE è considerata come una stringa. Dunque, bisogna procedere a trasformala in formato as.date"
   ]
  },
  {
   "cell_type": "code",
   "execution_count": null,
   "id": "89758d6a-4550-4521-b96b-6d86f8da555f",
   "metadata": {},
   "outputs": [],
   "source": [
    "df$DATE <- dmy(df$DATE)"
   ]
  },
  {
   "cell_type": "code",
   "execution_count": null,
   "id": "28987878-2193-48b9-ac7a-5a211c8f6aa0",
   "metadata": {},
   "outputs": [],
   "source": [
    "class(df$DATE)"
   ]
  },
  {
   "cell_type": "markdown",
   "id": "bb0b1551-85fb-4de4-a3e5-609307596e8e",
   "metadata": {},
   "source": [
    "## 2) Gestione dei valori mancanti (NA)"
   ]
  },
  {
   "cell_type": "markdown",
   "id": "feb36c3b-5311-4d73-9a93-206ded887489",
   "metadata": {},
   "source": [
    "### Righe con almeno un NA"
   ]
  },
  {
   "cell_type": "code",
   "execution_count": null,
   "id": "30701644-a468-4a76-b5b2-4c67a5330dfd",
   "metadata": {},
   "outputs": [],
   "source": [
    "num_rows_with_na <- sum(apply(df, 1, function(row) any(is.na(row))))"
   ]
  },
  {
   "cell_type": "code",
   "execution_count": null,
   "id": "2b8e9274-25e6-45a1-a7f7-6a35796ddd80",
   "metadata": {},
   "outputs": [],
   "source": [
    "print(paste(\"Numero di righe con almeno un NA:\", num_rows_with_na))"
   ]
  },
  {
   "cell_type": "markdown",
   "id": "bca8bd3e-928d-44a2-a1c5-45b722c8803c",
   "metadata": {},
   "source": [
    "### Righe con più di un NA"
   ]
  },
  {
   "cell_type": "code",
   "execution_count": null,
   "id": "a0c8dae1-17fa-42bf-8948-7825194ca2e3",
   "metadata": {},
   "outputs": [],
   "source": [
    "num_rows_with_multiple_nas <- sum(apply(df, 1, function(row) sum(is.na(row)) > 1))"
   ]
  },
  {
   "cell_type": "code",
   "execution_count": null,
   "id": "494aeba2-2ac4-4815-a882-70474c1915a1",
   "metadata": {},
   "outputs": [],
   "source": [
    "print(paste(\"Numero di righe con più di un NA:\", num_rows_with_multiple_nas))"
   ]
  },
  {
   "cell_type": "markdown",
   "id": "dd8b089f-1ab2-4ff7-91a9-55bd3c360886",
   "metadata": {},
   "source": [
    "### Controllare il numero di NA per colonna "
   ]
  },
  {
   "cell_type": "code",
   "execution_count": null,
   "id": "f048f95d-1098-4fda-8c83-203e119f2955",
   "metadata": {},
   "outputs": [],
   "source": [
    "colSums(is.na(df))"
   ]
  },
  {
   "cell_type": "markdown",
   "id": "d5cfa53c-f226-4a37-912a-0178a0c190c3",
   "metadata": {},
   "source": [
    "### Visualizzare righe con NA"
   ]
  },
  {
   "cell_type": "code",
   "execution_count": null,
   "id": "71e598a8-4418-4239-8834-246c58359a31",
   "metadata": {},
   "outputs": [],
   "source": [
    "rows_with_na <- !complete.cases(df)"
   ]
  },
  {
   "cell_type": "code",
   "execution_count": null,
   "id": "0c264f4b-53f0-46ee-86fc-e59195e9d0c1",
   "metadata": {},
   "outputs": [],
   "source": [
    "df_with_na <- df[rows_with_na, ]\n",
    "print(\"Righe con almeno un NA:\")\n",
    "print(df_with_na)"
   ]
  },
  {
   "cell_type": "markdown",
   "id": "97d7b3ec-4b07-4d85-9b75-671e3dddb447",
   "metadata": {},
   "source": [
    "In questo caso specifico, molti NA si trovano nelle settimane successive al 19/08/2024 perché mancano i dati forniti dal cliente. Dunque, si può procedere con l'eliminazione di queste righe dal momento che non si trovano nella parte centrale del dataset, ma nella parte finale (Si può fare questa operazione anche quando i dati si trovano nella parte iniziale)."
   ]
  },
  {
   "cell_type": "code",
   "execution_count": null,
   "id": "c4019ba4-6ad2-4537-9742-a92eb6f768ff",
   "metadata": {},
   "outputs": [],
   "source": [
    "df <- df[1:236, ]"
   ]
  },
  {
   "cell_type": "code",
   "execution_count": null,
   "id": "baa39bea-faba-4f58-abc4-41231c351048",
   "metadata": {},
   "outputs": [],
   "source": [
    "tail(df)"
   ]
  },
  {
   "cell_type": "markdown",
   "id": "aa89c2fe-360a-423f-97f5-760556897cb9",
   "metadata": {},
   "source": [
    "### Rivedere i dati mancanti una volta effettuata questa operazione"
   ]
  },
  {
   "cell_type": "code",
   "execution_count": null,
   "id": "f4280210-e1a8-4de3-81fb-5af94125fa9a",
   "metadata": {},
   "outputs": [],
   "source": [
    "num_rows_with_na <- sum(apply(df, 1, function(row) any(is.na(row))))"
   ]
  },
  {
   "cell_type": "code",
   "execution_count": null,
   "id": "52cd59a3-e466-4085-a83b-d07452a3ac34",
   "metadata": {},
   "outputs": [],
   "source": [
    "print(num_rows_with_na)"
   ]
  },
  {
   "cell_type": "markdown",
   "id": "e4fca98c-bb50-47b0-a37a-bb4a47688215",
   "metadata": {},
   "source": [
    "Valutare dove si trovano questi NA riproponendo il codice che valuta gli NA per colonna"
   ]
  },
  {
   "cell_type": "code",
   "execution_count": null,
   "id": "c0c650c5-f55d-48c1-8fa5-b88304b19133",
   "metadata": {},
   "outputs": [],
   "source": [
    "colSums(is.na(df))"
   ]
  },
  {
   "cell_type": "markdown",
   "id": "18d34ef8-2eac-4757-b785-3ca51e7b0e67",
   "metadata": {},
   "source": [
    "I dati mancanti si trovano nelle colonne: compleanno_yeppon; compleanno_yeppon_weighted; black_friday; black_friday_weighted; error_404; marzo; marzo_weighted. Tutte colonne che dovrebbero avere degli 0, ragion per cui procediamo con la sostituzione degli NA con 0"
   ]
  },
  {
   "cell_type": "code",
   "execution_count": null,
   "id": "d6ea7278-ea06-4c48-9af4-10bcfcb2da45",
   "metadata": {},
   "outputs": [],
   "source": [
    "df[is.na(df)] <- 0"
   ]
  },
  {
   "cell_type": "markdown",
   "id": "582cd6fe-a6f7-42f6-8ff4-2390276ab752",
   "metadata": {},
   "source": [
    "Verifico"
   ]
  },
  {
   "cell_type": "code",
   "execution_count": null,
   "id": "1faed8ee-55a5-47e1-9d68-990774dc7b76",
   "metadata": {},
   "outputs": [],
   "source": [
    "num_rows_with_na <- sum(apply(df, 1, function(row) any(is.na(row))))"
   ]
  },
  {
   "cell_type": "code",
   "execution_count": null,
   "id": "591785dd-b250-40d6-8b36-9f4840935e9a",
   "metadata": {},
   "outputs": [],
   "source": [
    "print(num_rows_with_na)"
   ]
  },
  {
   "cell_type": "markdown",
   "id": "87a3683e-5f3d-4436-9a34-8d217a1f4a05",
   "metadata": {},
   "source": [
    "Tutti gli NA presenti nel dataset sono stati gestiti "
   ]
  },
  {
   "cell_type": "markdown",
   "id": "3009d287-f9ab-4305-902c-f8785e76c11f",
   "metadata": {},
   "source": [
    "## 3) Matrice di correlazione per valutare le correlazioni tra le varianbili e verificare la multicollinearità"
   ]
  },
  {
   "cell_type": "markdown",
   "id": "300f277f-2223-4df4-b95b-aed0f68fef37",
   "metadata": {},
   "source": [
    "### Creare la matrice di correlazione e plottare heatmap"
   ]
  },
  {
   "cell_type": "code",
   "execution_count": null,
   "id": "fd7b1695-b726-407f-b60c-bbc4c2dc8573",
   "metadata": {},
   "outputs": [],
   "source": [
    "matrix_data <- df[, c(\"facebook_cost\", \"search_cost\", \"shopping_cost\", \"bingS_cost\", \"trova_cost\",\"display_cost\",\"discovery_cost\",\"youtube_cost\",\"bingP_cost\",\"rtg_cost\",\"rtbhouse_cost\",\"criteo_cost\",\"tv_cost\",\"banner_cost\",\"radio_cost\",\"ctv_cost\")]\n",
    "correlation_matrix <- cor(matrix_data)\n"
   ]
  },
  {
   "cell_type": "code",
   "execution_count": null,
   "id": "e81b1f8c-9dc5-4fbd-b6b3-bc8f3ceefec0",
   "metadata": {},
   "outputs": [],
   "source": [
    "melted_cor_matrix <- melt(correlation_matrix)\n",
    "ggplot(data = melted_cor_matrix, aes(x = Var1, y = Var2, fill = value)) +\n",
    "  geom_tile() +\n",
    "  scale_fill_gradient2(low = \"blue\", high = \"red\", mid = \"white\", \n",
    "                       midpoint = 0, limit = c(-1, 1), space = \"Lab\", \n",
    "                       name = \"Correlazione\") +\n",
    "  theme_minimal() + \n",
    "  theme(axis.text.x = element_text(angle = 45, vjust = 1, hjust = 1)) +\n",
    "  coord_fixed()"
   ]
  },
  {
   "cell_type": "markdown",
   "id": "3c45b4dc-5542-49a5-b024-3a4eb1bd2dbf",
   "metadata": {},
   "source": [
    "### Trovare con codice le variabili che hanno una correlazione >70%"
   ]
  },
  {
   "cell_type": "code",
   "execution_count": null,
   "id": "2e67442f-6372-4ccb-bb3e-eeebd17ef92b",
   "metadata": {},
   "outputs": [],
   "source": [
    "threshold <- 0.7"
   ]
  },
  {
   "cell_type": "code",
   "execution_count": null,
   "id": "94405a56-f258-4524-8fff-5f6c1b2a8284",
   "metadata": {},
   "outputs": [],
   "source": [
    "high_cor_pairs <- which(abs(correlation_matrix) > threshold & abs(correlation_matrix) < 1, arr.ind = TRUE)"
   ]
  },
  {
   "cell_type": "code",
   "execution_count": null,
   "id": "95cb64b7-73fc-4fec-9daf-6b4e02f473ea",
   "metadata": {},
   "outputs": [],
   "source": [
    "high_cor_pairs_df <- data.frame(\n",
    "  Var1 = rownames(correlation_matrix)[high_cor_pairs[, 1]],\n",
    "  Var2 = colnames(correlation_matrix)[high_cor_pairs[, 2]],\n",
    "  Correlation = correlation_matrix[high_cor_pairs]\n",
    ")"
   ]
  },
  {
   "cell_type": "code",
   "execution_count": null,
   "id": "8e97bdb7-492e-41e7-8f03-e5f9ba6b6914",
   "metadata": {},
   "outputs": [],
   "source": [
    "high_cor_pairs_df <- high_cor_pairs_df[!duplicated(t(apply(high_cor_pairs_df, 1, sort))), ]"
   ]
  },
  {
   "cell_type": "code",
   "execution_count": null,
   "id": "dec57234-6a6d-40d1-95c2-f2616eb63cfa",
   "metadata": {},
   "outputs": [],
   "source": [
    "print(high_cor_pairs_df)"
   ]
  },
  {
   "cell_type": "markdown",
   "id": "ddfb038d-0610-4331-8acc-0ee2314cc593",
   "metadata": {},
   "source": [
    "In questo caso notiamo che criiteo e rtg hanno una correlazione di 86%; radio e banner 99%; ctv e banner 99%. Dunque, è necessario tenere conto di queste correlazioni forti nella scelta delle variabili del modello, magari eliminando alcune di queste variabili"
   ]
  },
  {
   "cell_type": "markdown",
   "id": "e41f6844-9d26-401c-b922-320f43290ff1",
   "metadata": {},
   "source": [
    "## 4) Creazione del Modello di MMM"
   ]
  },
  {
   "cell_type": "markdown",
   "id": "84a0b6f9-e2f9-4244-9914-45f74ad48e6a",
   "metadata": {},
   "source": [
    "### InputCollect"
   ]
  },
  {
   "cell_type": "code",
   "execution_count": null,
   "id": "6e477705-f113-4d0e-ac77-2dddc4fd99a5",
   "metadata": {},
   "outputs": [],
   "source": [
    "InputCollect <- robyn_inputs(\n",
    "  dt_input = df,          # nome del dataset in uso\n",
    "  dt_holidays = dt_prophet_holidays,\n",
    "  date_var = \"DATE\",      # variabile data\n",
    "  dep_var = \"revenue\",    # variabile dipendente \n",
    "  dep_var_type = \"revenue\",\n",
    "  prophet_vars = c(\"trend\", \"season\", \"holiday\"),    # Lasciare trend, stagionalità e vacanze così\n",
    "  prophet_country = \"IT\",       # festività della nazione in esame\n",
    "  paid_media_spends = c(\"facebook_cost\", \"search_cost\", \"shopping_cost\",\"bingS_cost\",\"display_cost\",\"rtbhouse_cost\",\"criteo_cost\",\"tv_cost\",\"banner_cost\",\"radio_cost\",\"rtg_cost\",\"ctv_cost\",\"youtube_cost\"), # costi dei canali media scelti per il modello\n",
    "  paid_media_vars = c(\"facebook_impression\", \"search_impression\", \"shopping_impression\", \"bingS_click\",\"display_impression\",\"rtbhouse_impression\",\"criteo_impression\",\"tv_grp\",\"banner_impression\",\"radio_impression\",\"rtg_impression\",\"ctv_impression\",\"youtube_impression\"), # impression dei canali scelti \n",
    "  window_start = \"2020-05-11\", \n",
    "  window_end = \"2024-05-13\",\n",
    "  adstock = \"geometric\"   # Lasciare adstock geometrico\n",
    "  )"
   ]
  },
  {
   "cell_type": "code",
   "execution_count": null,
   "id": "1affb389-056b-4b1b-b85c-f38c52f6474c",
   "metadata": {},
   "outputs": [],
   "source": [
    "print(InputCollect)"
   ]
  },
  {
   "cell_type": "code",
   "execution_count": null,
   "id": "213dc10a-a834-4f58-a41c-9a9e5907086c",
   "metadata": {},
   "outputs": [],
   "source": [
    "hyper_names(adstock = InputCollect$adstock, all_media = InputCollect$all_media)"
   ]
  },
  {
   "cell_type": "markdown",
   "id": "cc1b98b2-df1b-4ad3-87d5-056c013c6cd8",
   "metadata": {},
   "source": [
    "### Creazione iperparametri"
   ]
  },
  {
   "cell_type": "code",
   "execution_count": null,
   "id": "aecb8fbd-7ff4-44fa-aacb-3b324907ccc2",
   "metadata": {},
   "outputs": [],
   "source": [
    "hyperparameters <- list(\n",
    " banner_cost_alphas = c(0.5, 3),      \n",
    " banner_cost_gammas = c(0.3, 1),      \n",
    " banner_cost_thetas = c(0.05, 0.10),  \n",
    " bingS_cost_alphas = c(0.5, 3),\n",
    " bingS_cost_gammas = c(0.3, 1),\n",
    " bingS_cost_thetas = c(0.05, 0.10),\n",
    " criteo_cost_alphas = c(0.5, 3),\n",
    " criteo_cost_gammas = c(0.3, 1),\n",
    " criteo_cost_thetas = c(0.05, 0.10),   # valori maggiori di alpha rendono la curva più a S, mentre valori minori la rendono più a C.\n",
    " display_cost_alphas = c(0.5, 3),\n",
    " display_cost_gammas = c(0.3, 1),\n",
    " display_cost_thetas = c(0.05, 0.10),\n",
    " facebook_cost_alphas = c(0.5, 3),\n",
    " facebook_cost_gammas = c(0.3, 1),\n",
    " facebook_cost_thetas = c(0.15, 0.3),  # valori più alti di gamma spostano l'inflessione verso date successive, ritardando la saturazione dell'effetto.\n",
    " radio_cost_alphas = c(0.5, 3),\n",
    " radio_cost_gammas = c(0.3, 1),\n",
    " radio_cost_thetas = c(0.10, 0.20),\n",
    " rtbhouse_cost_alphas = c(0.5, 3),\n",
    " rtbhouse_cost_gammas = c(0.3, 1),\n",
    " rtbhouse_cost_thetas = c(0.1, 0.10),  # valori più alti di theta comportano una decadenza più lenta dell'effetto pubblicitario nel tempo.\n",
    " rtg_cost_alphas = c(0.5, 3),\n",
    " rtg_cost_gammas = c(0.3, 1),\n",
    " rtg_cost_thetas = c(0.05, 0.10),\n",
    " search_cost_alphas = c(0.5, 3),\n",
    " search_cost_gammas = c(0.3, 1),\n",
    " search_cost_thetas = c(0.1, 0.12),\n",
    " shopping_cost_alphas = c(0.5, 3),\n",
    " shopping_cost_gammas = c(0.3, 1),\n",
    " shopping_cost_thetas = c(0.1, 0.13),  \n",
    " youtube_cost_gammas = c(0.3, 1),\n",
    " tv_cost_alphas = c(0.5, 3),\n",
    " tv_cost_gammas = c(0.3, 1),\n",
    " tv_cost_thetas = c(0.10, 0.20),\n",
    " youtube_cost_alphas = c(0.5, 3),       \n",
    " youtube_cost_thetas = c(0.05, 0.10),\n",
    " ctv_cost_alphas = c(0.5, 3),\n",
    " ctv_cost_gammas = c(0.3, 1),\n",
    " ctv_cost_thetas = c(0.05, 0.10),\n",
    " train_size = c(0.5, 0.8)\n",
    " )\n"
   ]
  },
  {
   "cell_type": "code",
   "execution_count": null,
   "id": "43b3f150-a773-48b8-a689-7cd9ba62d9b1",
   "metadata": {},
   "outputs": [],
   "source": [
    "InputCollect <- robyn_inputs(InputCollect = InputCollect, hyperparameters = hyperparameters)"
   ]
  },
  {
   "cell_type": "code",
   "execution_count": null,
   "id": "5970103f-b0e9-4d1b-8d80-792ab5163fb5",
   "metadata": {},
   "outputs": [],
   "source": [
    "print(InputCollect)"
   ]
  },
  {
   "cell_type": "markdown",
   "id": "8a8e8148-539b-4e03-b00e-8858ac360c57",
   "metadata": {},
   "source": [
    "### Creazione modelli "
   ]
  },
  {
   "cell_type": "code",
   "execution_count": null,
   "id": "66d0c086-3f2c-4691-9a45-da116e442e1a",
   "metadata": {},
   "outputs": [],
   "source": [
    "OutputModels <- robyn_run(\n",
    " InputCollect = InputCollect, \n",
    " iterations = 2000, \n",
    " trials = 5, \n",
    " ts_validation = F, \n",
    " add_penalty_factor = FALSE \n",
    ") "
   ]
  },
  {
   "cell_type": "code",
   "execution_count": null,
   "id": "75558469-9c62-4fc6-92b0-3a3f18a0b316",
   "metadata": {},
   "outputs": [],
   "source": [
    "OutputCollect <- robyn_outputs(\n",
    "  InputCollect, OutputModels,\n",
    "  pareto_fronts = \"auto\", \n",
    "  csv_out = \"pareto\", \n",
    "  clusters = TRUE, \n",
    "  plot_pareto = create_files \n",
    ")\n"
   ]
  },
  {
   "cell_type": "markdown",
   "id": "340d6cd3-52ef-44ea-a4f7-ce697fdf9140",
   "metadata": {},
   "source": [
    "Cercare i modelli in questa cartella 'Robyn_202409172304_init' e scegliere il modello migliore "
   ]
  },
  {
   "cell_type": "markdown",
   "id": "edb5871c-eeb0-47fd-b0f3-ab39987b878e",
   "metadata": {},
   "source": [
    "Le prossime 3 righe di codice non sono necessarie, servono solo a visualizzare le immagini nel notebook"
   ]
  },
  {
   "cell_type": "markdown",
   "id": "327027f7-4319-4b79-99b6-0cb1c862a55c",
   "metadata": {},
   "source": [
    "### Scelta modello ed esportazione "
   ]
  },
  {
   "cell_type": "code",
   "execution_count": null,
   "id": "29f4274f-b941-4a8e-8764-f13bd00facd4",
   "metadata": {},
   "outputs": [],
   "source": [
    "select_model <- \"1_285_5\""
   ]
  },
  {
   "cell_type": "code",
   "execution_count": null,
   "id": "497e2507-96ef-4d9e-a7f5-be7eae353c9f",
   "metadata": {},
   "outputs": [],
   "source": [
    "ExportedModel <- robyn_write(InputCollect, OutputCollect, select_model, export = create_files)"
   ]
  },
  {
   "cell_type": "code",
   "execution_count": null,
   "id": "0d3abed5-62df-4162-8aa0-6759904b5658",
   "metadata": {},
   "outputs": [],
   "source": [
    "print(ExportedModel)"
   ]
  },
  {
   "cell_type": "markdown",
   "id": "a16c7405-06be-4c05-a448-35f829608c23",
   "metadata": {},
   "source": [
    "## 5) Allocazione del budget "
   ]
  },
  {
   "cell_type": "code",
   "execution_count": null,
   "id": "eb1eac0d-f064-4eac-8316-c4324fca1b47",
   "metadata": {},
   "outputs": [],
   "source": [
    "AllocatorCollect <- robyn_allocator(\n",
    "  InputCollect = InputCollect,\n",
    "  OutputCollect = OutputCollect,\n",
    "  select_model = select_model,\n",
    "  date_range = \"all\", # Default to \"all\", altrimenti si può inserire un range di date entro il quali effettuare l'allocazione\n",
    "  total_budget = NULL, # When NULL, default is total spend in date_range, altrimenti si può inserire un budget manualmente\n",
    "  channel_constr_low = 0.7, # limite inferiore\n",
    "  channel_constr_up = c(1.5, 1.6, 1.7, 1.2, 1.1,1.1,1.9,1.5,1.5,1.5,1.5,1.5,1.5), # limite superiore\n",
    "  scenario = \"max_response\",\n",
    "  export = create_files\n",
    ")"
   ]
  },
  {
   "cell_type": "markdown",
   "id": "eb67f3a9-df33-4b6f-a9b6-8be27529dc4a",
   "metadata": {},
   "source": [
    "Le prossime 3 righe di codice non sono necessarie, servono solo a visualizzare le immagini nel notebook"
   ]
  },
  {
   "cell_type": "code",
   "execution_count": null,
   "id": "46beab0c-1c65-4351-8fac-428d02feeaf9",
   "metadata": {},
   "outputs": [],
   "source": [
    "image_path_2 <-'/Users/digitalangels/Robyn_202409172304_init/1_285_5_reallocated_best_roas.png'"
   ]
  },
  {
   "cell_type": "code",
   "execution_count": null,
   "id": "dd507e7a-8644-46b1-803c-d5f3641e1a6d",
   "metadata": {},
   "outputs": [],
   "source": [
    "img_2 <- readPNG(image_path_2)"
   ]
  },
  {
   "cell_type": "code",
   "execution_count": null,
   "id": "d6c54a08-c117-4fa3-ac36-e6550816b4e3",
   "metadata": {},
   "outputs": [],
   "source": [
    "grid.raster(img_2)"
   ]
  },
  {
   "cell_type": "markdown",
   "id": "d9cea02e-77cb-4a82-bf57-5ca0780acff5",
   "metadata": {},
   "source": [
    "## 5) Refresh (Es. Q4 2024)"
   ]
  },
  {
   "cell_type": "markdown",
   "id": "d979e3f7-de03-4ea2-96e1-b5e1ae339012",
   "metadata": {},
   "source": [
    "### Rifare la stessa procedura di caricamento del dataset e gestione dati mancanti "
   ]
  },
  {
   "cell_type": "markdown",
   "id": "55691fec-d01d-4f61-8d73-cefacdaeb859",
   "metadata": {},
   "source": [
    "### Caricamento del file json del modello da cui effettuare refresh "
   ]
  },
  {
   "cell_type": "markdown",
   "id": "c039acf9-6834-47b7-a623-b7ac9107b7c4",
   "metadata": {},
   "source": [
    "In questo caso viene fatto un refresh di un refresh: viene caricato il file json del refresh Q3 2024"
   ]
  },
  {
   "cell_type": "code",
   "execution_count": null,
   "id": "014147ce-aa9f-443a-91a0-93b478066dbb",
   "metadata": {},
   "outputs": [],
   "source": [
    "json_file <- \"~/Desktop/RobynModel-1_136_7.json\""
   ]
  },
  {
   "cell_type": "markdown",
   "id": "2d76083e-44f6-495f-acf0-01b22d92c54f",
   "metadata": {},
   "source": [
    "### Effettuare il refresh "
   ]
  },
  {
   "cell_type": "code",
   "execution_count": null,
   "id": "9da85fa5-5e97-440a-80fd-d2d5e68a082e",
   "metadata": {},
   "outputs": [],
   "source": [
    "RobynRefresh <- robyn_refresh(\n",
    "  json_file = json_file,\n",
    "  dt_input = df,\n",
    "  dt_holidays = dt_prophet_holidays,\n",
    "  window_start = \"27-05-2024\", # inserire la data di partenza da cui effettuare refresh\n",
    "  refresh_steps = 13, # numero di settimane aggiunte \n",
    "  refresh_iters = 1000, \n",
    "  refresh_trials = 1\n",
    ")"
   ]
  },
  {
   "cell_type": "markdown",
   "id": "c2cb18b4-1ab0-462a-8901-79e422a2c7b5",
   "metadata": {},
   "source": [
    "Cercare modello in questa cartella 'Robyn_202409172344_rf2'"
   ]
  },
  {
   "cell_type": "markdown",
   "id": "4edfe00d-b01f-40f4-af6f-53e92208a6b8",
   "metadata": {},
   "source": [
    "Le prossime 3 righe di codice non sono necessarie, servono solo a visualizzare le immagini nel notebook"
   ]
  },
  {
   "cell_type": "markdown",
   "id": "1cb2612c-d5cd-4d0c-ac55-2c07917f24c4",
   "metadata": {},
   "source": [
    "### Creazione InputCollect, OutputCollect e selezione modello ottenuto"
   ]
  },
  {
   "cell_type": "code",
   "execution_count": null,
   "id": "11f171c5-5d65-4739-97b3-43c177a94ba9",
   "metadata": {},
   "outputs": [],
   "source": [
    "InputCollectX <- RobynRefresh$listRefresh1$InputCollect\n",
    "OutputCollectX <- RobynRefresh$listRefresh1$OutputCollect\n",
    "select_modelX <- RobynRefresh$listRefresh1$OutputCollect$selectID"
   ]
  },
  {
   "cell_type": "markdown",
   "id": "1ec48203-ab45-43b9-8db4-1b7cbeec3164",
   "metadata": {},
   "source": [
    "### Allocazione budget del refresh"
   ]
  },
  {
   "cell_type": "code",
   "execution_count": null,
   "id": "57ee9920-b141-497b-8ed5-409c0d15e74c",
   "metadata": {},
   "outputs": [],
   "source": [
    "AllocatorCollect <- robyn_allocator(\n",
    "  InputCollect = InputCollectX,\n",
    "  OutputCollect = OutputCollectX,\n",
    "  select_model = select_modelX,\n",
    "  date_range = c(\"2023-07-03\", \"2023-09-25\"), # scegliere il range temporale dell'anno precedente che corrisponde al periodo dell'anno corrente che si vuole simulare \n",
    "  total_budget = 216660, # Inserire il budget disponibile\n",
    "  channel_constr_low = 0.7,\n",
    "  channel_constr_up = c(1.5, 1.5, 1.2, 1.2, 1.5,1.5,1.5,1.5,1.7,1.1,1.1),\n",
    "  scenario = \"max_response\",\n",
    "  export = create_files\n",
    ")"
   ]
  },
  {
   "cell_type": "markdown",
   "id": "184af4e8-98c6-4234-a321-f46cd975c151",
   "metadata": {},
   "source": [
    "Cercare in questa cartella 'Robyn_202409172344_rf2'"
   ]
  },
  {
   "cell_type": "markdown",
   "id": "6b2c1a4b-859f-4a7c-bc83-efb5a3ed5035",
   "metadata": {},
   "source": [
    "Le prossime 3 righe di codice non sono necessarie, servono solo a visualizzare le immagini nel notebook"
   ]
  }
 ],
 "metadata": {
  "kernelspec": {
   "display_name": "R",
   "language": "R",
   "name": "ir"
  },
  "language_info": {
   "codemirror_mode": "r",
   "file_extension": ".r",
   "mimetype": "text/x-r-source",
   "name": "R",
   "pygments_lexer": "r",
   "version": "4.4.1"
  }
 },
 "nbformat": 4,
 "nbformat_minor": 5
}
